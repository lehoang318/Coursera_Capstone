{
 "cells": [
  {
   "cell_type": "markdown",
   "id": "73ac8382-81a6-42e5-9269-861ccb6dcb06",
   "metadata": {},
   "source": [
    "# Segmenting and Clustering Neighborhoods in Toronto"
   ]
  },
  {
   "cell_type": "markdown",
   "id": "5c989bbb-c821-4a46-8465-44433fa7ffe6",
   "metadata": {},
   "source": [
    "## Toronto - Postal Codes"
   ]
  },
  {
   "cell_type": "markdown",
   "id": "cb70edb4-758c-4db8-af6c-b7e6614026e7",
   "metadata": {},
   "source": [
    "## Get the wiki page which contains postal codes of "
   ]
  },
  {
   "cell_type": "code",
   "execution_count": 1,
   "id": "3532987c-8104-4739-bc32-172c3770538c",
   "metadata": {},
   "outputs": [],
   "source": [
    "import requests\n",
    "\n",
    "url = 'https://en.wikipedia.org/wiki/List_of_postal_codes_of_Canada:_M'\n",
    "wiki_page = requests.get(url)"
   ]
  },
  {
   "cell_type": "markdown",
   "id": "515d0e7b-3c1b-4d0e-a822-7512f76d873a",
   "metadata": {},
   "source": [
    "## Parse html content"
   ]
  },
  {
   "cell_type": "code",
   "execution_count": 2,
   "id": "d0314afd-5a72-40c7-abac-df7c008feba3",
   "metadata": {},
   "outputs": [],
   "source": [
    "from bs4 import BeautifulSoup\n",
    "\n",
    "soup = BeautifulSoup(wiki_page.content, 'html.parser')\n",
    "\n",
    "# soup.children[0] -> <class 'bs4.element.Doctype'>\n",
    "# soup.children[1] -> <class 'bs4.element.NavigableString'>\n",
    "# soup.children[2] -> <html>...</html>\n",
    "html = list(soup.children)[2]"
   ]
  },
  {
   "cell_type": "markdown",
   "id": "112a535a-425e-4e61-a207-51d206571cb4",
   "metadata": {},
   "source": [
    "## Extract header information"
   ]
  },
  {
   "cell_type": "code",
   "execution_count": 3,
   "id": "9ebda0c3-055a-4e03-b907-b29c690ab822",
   "metadata": {},
   "outputs": [
    {
     "name": "stdout",
     "output_type": "stream",
     "text": [
      "List of postal codes of Canada: M - Wikipedia\n"
     ]
    }
   ],
   "source": [
    "print(soup.find('title').get_text())"
   ]
  },
  {
   "cell_type": "markdown",
   "id": "8e0fc389-0337-485c-9c21-249d7c62d0b4",
   "metadata": {},
   "source": [
    "## Extract portal codes"
   ]
  },
  {
   "cell_type": "code",
   "execution_count": 4,
   "id": "f8c0897c-b123-432b-b6b6-9de994ea8c3d",
   "metadata": {},
   "outputs": [
    {
     "name": "stdout",
     "output_type": "stream",
     "text": [
      "Number of cells:  180\n"
     ]
    }
   ],
   "source": [
    "# There are 3 tables on the wiki page, however, we only need the first one\n",
    "table = soup.find('table')\n",
    "cells = table.findAll('td')\n",
    "print('Number of cells: ', len(cells))"
   ]
  },
  {
   "cell_type": "markdown",
   "id": "7e9db460-921a-4176-809b-40318e5ceaa3",
   "metadata": {},
   "source": [
    "### Function for parsing content in each cell"
   ]
  },
  {
   "cell_type": "code",
   "execution_count": 5,
   "id": "9ccf476b-a47b-4a60-9a60-9fa1fd049534",
   "metadata": {},
   "outputs": [],
   "source": [
    "import re\n",
    "\n",
    "pattern = re.compile(r\"(?P<code>M\\d[A-Z])(?P<borough>[\\w\\d\\s\\']+)(?P<nbs>.+)\")\n",
    "\n",
    "def parse(text):\n",
    "    matches = pattern.search(text)\n",
    "    code = matches.group('code')\n",
    "    borough = matches.group('borough')\n",
    "    nbs = matches.group('nbs')\n",
    "    if ((borough is not None) and (nbs is None)):\n",
    "        nbs = borough\n",
    "    else:\n",
    "        nbs = re.sub(r'\\s+|\\)', ' ', nbs)\n",
    "        nbs = re.sub(r'[\\(/]', ', ', nbs)\n",
    "        nbs = re.sub(r'(^,|,$)', '', nbs)\n",
    "        nbs = re.sub(r'\\s+', ' ', nbs)\n",
    "    return (code, borough, nbs)"
   ]
  },
  {
   "cell_type": "markdown",
   "id": "ee9bcde3-ccf5-4d2a-a565-6d9a55fde381",
   "metadata": {},
   "source": [
    "### Loop through all cells, and parse their contents"
   ]
  },
  {
   "cell_type": "code",
   "execution_count": 6,
   "id": "128fe6ea-952a-41b3-a4e4-5dd461ac7cc5",
   "metadata": {
    "scrolled": true
   },
   "outputs": [
    {
     "data": {
      "text/html": [
       "<div>\n",
       "<style scoped>\n",
       "    .dataframe tbody tr th:only-of-type {\n",
       "        vertical-align: middle;\n",
       "    }\n",
       "\n",
       "    .dataframe tbody tr th {\n",
       "        vertical-align: top;\n",
       "    }\n",
       "\n",
       "    .dataframe thead th {\n",
       "        text-align: right;\n",
       "    }\n",
       "</style>\n",
       "<table border=\"1\" class=\"dataframe\">\n",
       "  <thead>\n",
       "    <tr style=\"text-align: right;\">\n",
       "      <th></th>\n",
       "      <th>PostalCode</th>\n",
       "      <th>Borough</th>\n",
       "      <th>Neighborhood</th>\n",
       "    </tr>\n",
       "  </thead>\n",
       "  <tbody>\n",
       "    <tr>\n",
       "      <th>0</th>\n",
       "      <td>M3A</td>\n",
       "      <td>North York</td>\n",
       "      <td>Parkwoods</td>\n",
       "    </tr>\n",
       "    <tr>\n",
       "      <th>1</th>\n",
       "      <td>M4A</td>\n",
       "      <td>North York</td>\n",
       "      <td>Victoria Village</td>\n",
       "    </tr>\n",
       "    <tr>\n",
       "      <th>2</th>\n",
       "      <td>M5A</td>\n",
       "      <td>Downtown Toronto</td>\n",
       "      <td>Regent Park , Harbourfront</td>\n",
       "    </tr>\n",
       "    <tr>\n",
       "      <th>3</th>\n",
       "      <td>M6A</td>\n",
       "      <td>North York</td>\n",
       "      <td>Lawrence Manor , Lawrence Heights</td>\n",
       "    </tr>\n",
       "    <tr>\n",
       "      <th>4</th>\n",
       "      <td>M7A</td>\n",
       "      <td>Queen's Park</td>\n",
       "      <td>Ontario Provincial Government</td>\n",
       "    </tr>\n",
       "  </tbody>\n",
       "</table>\n",
       "</div>"
      ],
      "text/plain": [
       "  PostalCode           Borough                         Neighborhood\n",
       "0        M3A        North York                           Parkwoods \n",
       "1        M4A        North York                    Victoria Village \n",
       "2        M5A  Downtown Toronto          Regent Park , Harbourfront \n",
       "3        M6A        North York   Lawrence Manor , Lawrence Heights \n",
       "4        M7A      Queen's Park       Ontario Provincial Government "
      ]
     },
     "execution_count": 6,
     "metadata": {},
     "output_type": "execute_result"
    }
   ],
   "source": [
    "import pandas as pd\n",
    "\n",
    "NEG_KEY = 'Not assigned'\n",
    "\n",
    "pc_dict = {}\n",
    "pc_dict['PostalCode'] = []\n",
    "pc_dict['Borough'] = []\n",
    "pc_dict['Neighborhood'] = []\n",
    "\n",
    "for cell in cells:\n",
    "    content = cell.get_text()\n",
    "    if NEG_KEY in content:\n",
    "        continue\n",
    "\n",
    "    code, borough, nbs = parse(content)\n",
    "    \n",
    "    pc_dict['PostalCode'].append(code)\n",
    "    pc_dict['Borough'].append(borough)\n",
    "    pc_dict['Neighborhood'].append(nbs)\n",
    "\n",
    "ds = pd.DataFrame(pc_dict, columns=['PostalCode', 'Borough', 'Neighborhood'])\n",
    "ds.head()"
   ]
  },
  {
   "cell_type": "markdown",
   "id": "1ff579bd-82bc-4ffd-8024-4f2b71fa6608",
   "metadata": {},
   "source": [
    "### Clean-up/Patch"
   ]
  },
  {
   "cell_type": "code",
   "execution_count": 7,
   "id": "f7bd5b6b-7ae9-41a0-9b52-6bf4b645f191",
   "metadata": {},
   "outputs": [
    {
     "name": "stdout",
     "output_type": "stream",
     "text": [
      "Exceptions:\n",
      "    PostalCode                                            Borough  \\\n",
      "76         M7R   MississaugaCanada Post Gateway Processing Centre   \n",
      "92         M5W     Downtown TorontoStn A PO Boxes25 The Esplanade   \n",
      "94         M9W                                 EtobicokeNorthwest   \n",
      "100        M7Y  East TorontoBusiness reply mail Processing Cen...   \n",
      "\n",
      "                                          Neighborhood  \n",
      "76                                     Enclave of L4W   \n",
      "92                                     Enclave of M5E   \n",
      "94    Clairville , Humberwood , Woodbine Downs , We...  \n",
      "100                                    Enclave of M4L   \n"
     ]
    }
   ],
   "source": [
    "print('Exceptions:')\n",
    "print(ds[ds['PostalCode'].isin(['M5W', 'M7R', 'M7Y', 'M9W'])])\n",
    "\n",
    "ds.loc[ds['PostalCode'] == 'M7Y', 'Borough'] = 'East Toronto'\n",
    "ds.loc[ds['PostalCode'] == 'M7Y', 'Neighborhood'] = 'Business Reply Mail Processing Centre 969 Eastern'\n",
    "\n",
    "ds.loc[ds['PostalCode'] == 'M7R', 'Borough'] = 'Mississauga'\n",
    "ds.loc[ds['PostalCode'] == 'M7R', 'Neighborhood'] = 'Canada Post Gateway Processing Centre'\n",
    "\n",
    "ds.loc[ds['PostalCode'] == 'M5W', 'Borough'] = 'Downtown Toronto'\n",
    "ds.loc[ds['PostalCode'] == 'M5W', 'Neighborhood'] = 'Stn A PO Boxes 25 The Esplanade'\n",
    "\n",
    "ds.loc[ds['PostalCode'] == 'M9W', 'Borough'] = 'Etobicoke Northwest'"
   ]
  },
  {
   "cell_type": "code",
   "execution_count": 8,
   "id": "e8fe964d-d6bf-45ee-9d21-172e4ebeeea9",
   "metadata": {},
   "outputs": [
    {
     "name": "stdout",
     "output_type": "stream",
     "text": [
      "After patching\n",
      "    PostalCode              Borough  \\\n",
      "76         M7R          Mississauga   \n",
      "92         M5W     Downtown Toronto   \n",
      "94         M9W  Etobicoke Northwest   \n",
      "100        M7Y         East Toronto   \n",
      "\n",
      "                                          Neighborhood  \n",
      "76               Canada Post Gateway Processing Centre  \n",
      "92                     Stn A PO Boxes 25 The Esplanade  \n",
      "94    Clairville , Humberwood , Woodbine Downs , We...  \n",
      "100  Business Reply Mail Processing Centre 969 Eastern  \n"
     ]
    }
   ],
   "source": [
    "print('After patching')\n",
    "print(ds[ds['PostalCode'].isin(['M5W', 'M7R', 'M7Y', 'M9W'])])"
   ]
  },
  {
   "cell_type": "markdown",
   "id": "e0152d60-d735-48c7-acc0-54e3d353f1aa",
   "metadata": {},
   "source": [
    "## Summary"
   ]
  },
  {
   "cell_type": "code",
   "execution_count": 9,
   "id": "37eed3ae-0ae5-46a3-a8e3-5d1b916d5a09",
   "metadata": {},
   "outputs": [
    {
     "name": "stdout",
     "output_type": "stream",
     "text": [
      "Number of rows:  103\n"
     ]
    }
   ],
   "source": [
    "print('Number of rows: ', ds.shape[0])"
   ]
  }
 ],
 "metadata": {
  "kernelspec": {
   "display_name": "Python 3",
   "language": "python",
   "name": "python3"
  },
  "language_info": {
   "codemirror_mode": {
    "name": "ipython",
    "version": 3
   },
   "file_extension": ".py",
   "mimetype": "text/x-python",
   "name": "python",
   "nbconvert_exporter": "python",
   "pygments_lexer": "ipython3",
   "version": "3.8.5"
  }
 },
 "nbformat": 4,
 "nbformat_minor": 5
}
