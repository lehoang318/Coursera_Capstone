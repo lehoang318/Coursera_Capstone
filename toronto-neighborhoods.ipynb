{
 "cells": [
  {
   "cell_type": "markdown",
   "id": "7b75e7ff",
   "metadata": {},
   "source": [
    "## Get html content"
   ]
  },
  {
   "cell_type": "code",
   "execution_count": 63,
   "id": "e0df3b51",
   "metadata": {},
   "outputs": [],
   "source": [
    "import requests\n",
    "\n",
    "url = 'https://en.wikipedia.org/wiki/List_of_postal_codes_of_Canada:_M'\n",
    "wiki_page = requests.get(url)"
   ]
  },
  {
   "cell_type": "markdown",
   "id": "d9cc42cc",
   "metadata": {},
   "source": [
    "## Parse html content"
   ]
  },
  {
   "cell_type": "code",
   "execution_count": 64,
   "id": "c4b51e00",
   "metadata": {},
   "outputs": [],
   "source": [
    "from bs4 import BeautifulSoup\n",
    "\n",
    "soup = BeautifulSoup(wiki_page.content, 'html.parser')"
   ]
  },
  {
   "cell_type": "code",
   "execution_count": 65,
   "id": "993331c3",
   "metadata": {
    "scrolled": true
   },
   "outputs": [
    {
     "name": "stdout",
     "output_type": "stream",
     "text": [
      "<class 'bs4.element.Doctype'>\n",
      "<class 'bs4.element.NavigableString'>\n",
      "<class 'bs4.element.Tag'>\n"
     ]
    }
   ],
   "source": [
    "for c0 in soup.contents:\n",
    "    print(type(c0))\n"
   ]
  },
  {
   "cell_type": "code",
   "execution_count": 66,
   "id": "9dac59d1",
   "metadata": {
    "scrolled": true
   },
   "outputs": [],
   "source": [
    "html = list(soup.children)[2]"
   ]
  },
  {
   "cell_type": "code",
   "execution_count": 67,
   "id": "e2f1834d",
   "metadata": {},
   "outputs": [
    {
     "name": "stdout",
     "output_type": "stream",
     "text": [
      "<class 'bs4.element.NavigableString'>\n",
      "<class 'bs4.element.Tag'>\n",
      "<class 'bs4.element.NavigableString'>\n",
      "<class 'bs4.element.Tag'>\n"
     ]
    }
   ],
   "source": [
    "for child in list(html.children):\n",
    "    print(type(child))"
   ]
  },
  {
   "cell_type": "markdown",
   "id": "5ee92dee",
   "metadata": {},
   "source": [
    "## Extract header information"
   ]
  },
  {
   "cell_type": "code",
   "execution_count": 68,
   "id": "ec0f0665",
   "metadata": {},
   "outputs": [],
   "source": [
    "head = soup.find('head')"
   ]
  },
  {
   "cell_type": "markdown",
   "id": "2273c8a4",
   "metadata": {},
   "source": [
    "## Extract portal codes from the 1st table"
   ]
  },
  {
   "cell_type": "code",
   "execution_count": 69,
   "id": "4a10c358",
   "metadata": {},
   "outputs": [
    {
     "name": "stdout",
     "output_type": "stream",
     "text": [
      "Number of cells:  180\n"
     ]
    }
   ],
   "source": [
    "tables = soup.findAll('table')\n",
    "cells = tables[0].findAll('td')\n",
    "print('Number of cells: ', len(cells))"
   ]
  },
  {
   "cell_type": "code",
   "execution_count": 76,
   "id": "3c2a4114",
   "metadata": {},
   "outputs": [],
   "source": [
    "import re\n",
    "\n",
    "pattern = re.compile(r\"(?P<code>M\\d[A-Z])(?P<borough>[\\w\\d\\s\\']+)(?P<nbs>.+)\")\n",
    "\n",
    "def parse(text):\n",
    "    matches = pattern.search(text)\n",
    "    code = matches.group('code')\n",
    "    borough = matches.group('borough')\n",
    "    nbs = matches.group('nbs')\n",
    "    if ((borough is not None) and (nbs is None)):\n",
    "        print('Exception: ', text)\n",
    "        nbs = borough\n",
    "    else:\n",
    "        nbs = re.sub(r'\\s+', ' ', nbs)\n",
    "        nbs = re.sub(r'[\\(\\)/]', ',', nbs)\n",
    "        nbs = re.sub(r'^,', '', nbs)\n",
    "        nbs = re.sub(r',$', '', nbs)\n",
    "    return (code, borough, nbs)"
   ]
  },
  {
   "cell_type": "code",
   "execution_count": 79,
   "id": "97e20d41",
   "metadata": {
    "scrolled": true
   },
   "outputs": [
    {
     "name": "stdout",
     "output_type": "stream",
     "text": [
      "\n",
      "M7YEast TorontoBusiness reply mail Processing Centre969 Eastern(Enclave of M4L)\n",
      "\n",
      "\n"
     ]
    },
    {
     "data": {
      "text/html": [
       "<div>\n",
       "<style scoped>\n",
       "    .dataframe tbody tr th:only-of-type {\n",
       "        vertical-align: middle;\n",
       "    }\n",
       "\n",
       "    .dataframe tbody tr th {\n",
       "        vertical-align: top;\n",
       "    }\n",
       "\n",
       "    .dataframe thead th {\n",
       "        text-align: right;\n",
       "    }\n",
       "</style>\n",
       "<table border=\"1\" class=\"dataframe\">\n",
       "  <thead>\n",
       "    <tr style=\"text-align: right;\">\n",
       "      <th></th>\n",
       "      <th>PostalCode</th>\n",
       "      <th>Borough</th>\n",
       "      <th>Neighborhood</th>\n",
       "    </tr>\n",
       "  </thead>\n",
       "  <tbody>\n",
       "    <tr>\n",
       "      <th>0</th>\n",
       "      <td>M3A</td>\n",
       "      <td>North York</td>\n",
       "      <td>Parkwoods</td>\n",
       "    </tr>\n",
       "    <tr>\n",
       "      <th>1</th>\n",
       "      <td>M4A</td>\n",
       "      <td>North York</td>\n",
       "      <td>Victoria Village</td>\n",
       "    </tr>\n",
       "    <tr>\n",
       "      <th>2</th>\n",
       "      <td>M5A</td>\n",
       "      <td>Downtown Toronto</td>\n",
       "      <td>Regent Park , Harbourfront</td>\n",
       "    </tr>\n",
       "    <tr>\n",
       "      <th>3</th>\n",
       "      <td>M6A</td>\n",
       "      <td>North York</td>\n",
       "      <td>Lawrence Manor , Lawrence Heights</td>\n",
       "    </tr>\n",
       "    <tr>\n",
       "      <th>4</th>\n",
       "      <td>M7A</td>\n",
       "      <td>Queen's Park</td>\n",
       "      <td>Ontario Provincial Government</td>\n",
       "    </tr>\n",
       "    <tr>\n",
       "      <th>...</th>\n",
       "      <td>...</td>\n",
       "      <td>...</td>\n",
       "      <td>...</td>\n",
       "    </tr>\n",
       "    <tr>\n",
       "      <th>98</th>\n",
       "      <td>M8X</td>\n",
       "      <td>Etobicoke</td>\n",
       "      <td>The Kingsway , Montgomery Road , Old Mill North</td>\n",
       "    </tr>\n",
       "    <tr>\n",
       "      <th>99</th>\n",
       "      <td>M4Y</td>\n",
       "      <td>Downtown Toronto</td>\n",
       "      <td>Church and Wellesley</td>\n",
       "    </tr>\n",
       "    <tr>\n",
       "      <th>100</th>\n",
       "      <td>M7Y</td>\n",
       "      <td>East TorontoBusiness reply mail Processing Cen...</td>\n",
       "      <td>Enclave of M4L</td>\n",
       "    </tr>\n",
       "    <tr>\n",
       "      <th>101</th>\n",
       "      <td>M8Y</td>\n",
       "      <td>Etobicoke</td>\n",
       "      <td>Old Mill South , King's Mill Park , Sunnylea ,...</td>\n",
       "    </tr>\n",
       "    <tr>\n",
       "      <th>102</th>\n",
       "      <td>M8Z</td>\n",
       "      <td>Etobicoke</td>\n",
       "      <td>Mimico NW , The Queensway West , South of Bloo...</td>\n",
       "    </tr>\n",
       "  </tbody>\n",
       "</table>\n",
       "<p>103 rows × 3 columns</p>\n",
       "</div>"
      ],
      "text/plain": [
       "    PostalCode                                            Borough  \\\n",
       "0          M3A                                         North York   \n",
       "1          M4A                                         North York   \n",
       "2          M5A                                   Downtown Toronto   \n",
       "3          M6A                                         North York   \n",
       "4          M7A                                       Queen's Park   \n",
       "..         ...                                                ...   \n",
       "98         M8X                                          Etobicoke   \n",
       "99         M4Y                                   Downtown Toronto   \n",
       "100        M7Y  East TorontoBusiness reply mail Processing Cen...   \n",
       "101        M8Y                                          Etobicoke   \n",
       "102        M8Z                                          Etobicoke   \n",
       "\n",
       "                                          Neighborhood  \n",
       "0                                            Parkwoods  \n",
       "1                                     Victoria Village  \n",
       "2                           Regent Park , Harbourfront  \n",
       "3                    Lawrence Manor , Lawrence Heights  \n",
       "4                        Ontario Provincial Government  \n",
       "..                                                 ...  \n",
       "98     The Kingsway , Montgomery Road , Old Mill North  \n",
       "99                                Church and Wellesley  \n",
       "100                                     Enclave of M4L  \n",
       "101  Old Mill South , King's Mill Park , Sunnylea ,...  \n",
       "102  Mimico NW , The Queensway West , South of Bloo...  \n",
       "\n",
       "[103 rows x 3 columns]"
      ]
     },
     "execution_count": 79,
     "metadata": {},
     "output_type": "execute_result"
    }
   ],
   "source": [
    "import pandas as pd\n",
    "\n",
    "NEG_KEY = 'Not assigned'\n",
    "\n",
    "\n",
    "pc_dict = {}\n",
    "pc_dict['PostalCode'] = []\n",
    "pc_dict['Borough'] = []\n",
    "pc_dict['Neighborhood'] = []\n",
    "\n",
    "for cell in cells:\n",
    "    content = cell.get_text()\n",
    "    if NEG_KEY in content:\n",
    "        continue\n",
    "\n",
    "    code, borough, nbs = parse(content)\n",
    "    \n",
    "    if ('M7Y' == code):\n",
    "        print(content)\n",
    "    \n",
    "    pc_dict['PostalCode'].append(code)\n",
    "    pc_dict['Borough'].append(borough)\n",
    "    pc_dict['Neighborhood'].append(nbs)\n",
    "\n",
    "ds = pd.DataFrame(pc_dict, columns=['PostalCode', 'Borough', 'Neighborhood'])\n",
    "ds"
   ]
  },
  {
   "cell_type": "code",
   "execution_count": 81,
   "id": "cf429c27",
   "metadata": {},
   "outputs": [
    {
     "data": {
      "text/html": [
       "<div>\n",
       "<style scoped>\n",
       "    .dataframe tbody tr th:only-of-type {\n",
       "        vertical-align: middle;\n",
       "    }\n",
       "\n",
       "    .dataframe tbody tr th {\n",
       "        vertical-align: top;\n",
       "    }\n",
       "\n",
       "    .dataframe thead th {\n",
       "        text-align: right;\n",
       "    }\n",
       "</style>\n",
       "<table border=\"1\" class=\"dataframe\">\n",
       "  <thead>\n",
       "    <tr style=\"text-align: right;\">\n",
       "      <th></th>\n",
       "      <th>PostalCode</th>\n",
       "      <th>Borough</th>\n",
       "      <th>Neighborhood</th>\n",
       "    </tr>\n",
       "  </thead>\n",
       "  <tbody>\n",
       "    <tr>\n",
       "      <th>94</th>\n",
       "      <td>M9W</td>\n",
       "      <td>EtobicokeNorthwest</td>\n",
       "      <td>Clairville , Humberwood , Woodbine Downs , Wes...</td>\n",
       "    </tr>\n",
       "  </tbody>\n",
       "</table>\n",
       "</div>"
      ],
      "text/plain": [
       "   PostalCode             Borough  \\\n",
       "94        M9W  EtobicokeNorthwest   \n",
       "\n",
       "                                         Neighborhood  \n",
       "94  Clairville , Humberwood , Woodbine Downs , Wes...  "
      ]
     },
     "execution_count": 81,
     "metadata": {},
     "output_type": "execute_result"
    }
   ],
   "source": [
    "ds['M9W' == ds['PostalCode']]"
   ]
  },
  {
   "cell_type": "code",
   "execution_count": null,
   "id": "df0a29b4",
   "metadata": {},
   "outputs": [],
   "source": []
  }
 ],
 "metadata": {
  "kernelspec": {
   "display_name": "Python 3",
   "language": "python",
   "name": "python3"
  },
  "language_info": {
   "codemirror_mode": {
    "name": "ipython",
    "version": 3
   },
   "file_extension": ".py",
   "mimetype": "text/x-python",
   "name": "python",
   "nbconvert_exporter": "python",
   "pygments_lexer": "ipython3",
   "version": "3.6.10"
  }
 },
 "nbformat": 4,
 "nbformat_minor": 5
}
