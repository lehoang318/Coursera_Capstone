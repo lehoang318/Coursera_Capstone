{
 "cells": [
  {
   "cell_type": "markdown",
   "id": "73ac8382-81a6-42e5-9269-861ccb6dcb06",
   "metadata": {},
   "source": [
    "# Segmenting and Clustering Neighborhoods in Toronto"
   ]
  },
  {
   "cell_type": "markdown",
   "id": "5c989bbb-c821-4a46-8465-44433fa7ffe6",
   "metadata": {},
   "source": [
    "## Toronto - Postal Codes"
   ]
  },
  {
   "cell_type": "markdown",
   "id": "cb70edb4-758c-4db8-af6c-b7e6614026e7",
   "metadata": {},
   "source": [
    "## Get the wiki page which contains postal codes of "
   ]
  },
  {
   "cell_type": "code",
   "execution_count": 1,
   "id": "3532987c-8104-4739-bc32-172c3770538c",
   "metadata": {},
   "outputs": [],
   "source": [
    "import requests\n",
    "\n",
    "url = 'https://en.wikipedia.org/wiki/List_of_postal_codes_of_Canada:_M'\n",
    "wiki_page = requests.get(url)"
   ]
  },
  {
   "cell_type": "markdown",
   "id": "515d0e7b-3c1b-4d0e-a822-7512f76d873a",
   "metadata": {},
   "source": [
    "## Parse html content"
   ]
  },
  {
   "cell_type": "code",
   "execution_count": 2,
   "id": "d0314afd-5a72-40c7-abac-df7c008feba3",
   "metadata": {},
   "outputs": [],
   "source": [
    "from bs4 import BeautifulSoup\n",
    "\n",
    "soup = BeautifulSoup(wiki_page.content, 'html.parser')\n",
    "\n",
    "# soup.children[0] -> <class 'bs4.element.Doctype'>\n",
    "# soup.children[1] -> <class 'bs4.element.NavigableString'>\n",
    "# soup.children[2] -> <html>...</html>\n",
    "html = list(soup.children)[2]"
   ]
  },
  {
   "cell_type": "markdown",
   "id": "112a535a-425e-4e61-a207-51d206571cb4",
   "metadata": {},
   "source": [
    "## Extract header information"
   ]
  },
  {
   "cell_type": "code",
   "execution_count": 3,
   "id": "9ebda0c3-055a-4e03-b907-b29c690ab822",
   "metadata": {},
   "outputs": [
    {
     "name": "stdout",
     "output_type": "stream",
     "text": [
      "List of postal codes of Canada: M - Wikipedia\n"
     ]
    }
   ],
   "source": [
    "print(soup.find('title').get_text())"
   ]
  },
  {
   "cell_type": "markdown",
   "id": "8e0fc389-0337-485c-9c21-249d7c62d0b4",
   "metadata": {},
   "source": [
    "## Extract portal codes"
   ]
  },
  {
   "cell_type": "code",
   "execution_count": 4,
   "id": "f8c0897c-b123-432b-b6b6-9de994ea8c3d",
   "metadata": {},
   "outputs": [
    {
     "name": "stdout",
     "output_type": "stream",
     "text": [
      "Number of cells:  180\n"
     ]
    }
   ],
   "source": [
    "# There are 3 tables on the wiki page, however, we only need the first one\n",
    "table = soup.find('table')\n",
    "cells = table.findAll('td')\n",
    "print('Number of cells: ', len(cells))"
   ]
  },
  {
   "cell_type": "markdown",
   "id": "7e9db460-921a-4176-809b-40318e5ceaa3",
   "metadata": {},
   "source": [
    "### Function for parsing content in each cell"
   ]
  },
  {
   "cell_type": "code",
   "execution_count": 5,
   "id": "9ccf476b-a47b-4a60-9a60-9fa1fd049534",
   "metadata": {},
   "outputs": [],
   "source": [
    "import re\n",
    "\n",
    "pattern = re.compile(r\"(?P<code>M\\d[A-Z])(?P<borough>[\\w\\d\\s\\']+)(?P<nbs>.+)\")\n",
    "\n",
    "def parse(text):\n",
    "    matches = pattern.search(text)\n",
    "    code = matches.group('code')\n",
    "    borough = matches.group('borough')\n",
    "    nbs = matches.group('nbs')\n",
    "    if ((borough is not None) and (nbs is None)):\n",
    "        nbs = borough\n",
    "    else:\n",
    "        nbs = re.sub(r'\\s+|\\)', ' ', nbs)\n",
    "        nbs = re.sub(r'[\\(/]', ', ', nbs)\n",
    "        nbs = re.sub(r'(^,|,$)', '', nbs)\n",
    "        nbs = re.sub(r'\\s+', ' ', nbs)\n",
    "    return (code, borough, nbs)"
   ]
  },
  {
   "cell_type": "markdown",
   "id": "ee9bcde3-ccf5-4d2a-a565-6d9a55fde381",
   "metadata": {},
   "source": [
    "### Loop through all cells, and parse their contents"
   ]
  },
  {
   "cell_type": "code",
   "execution_count": 6,
   "id": "128fe6ea-952a-41b3-a4e4-5dd461ac7cc5",
   "metadata": {
    "scrolled": true
   },
   "outputs": [
    {
     "data": {
      "text/html": [
       "<div>\n",
       "<style scoped>\n",
       "    .dataframe tbody tr th:only-of-type {\n",
       "        vertical-align: middle;\n",
       "    }\n",
       "\n",
       "    .dataframe tbody tr th {\n",
       "        vertical-align: top;\n",
       "    }\n",
       "\n",
       "    .dataframe thead th {\n",
       "        text-align: right;\n",
       "    }\n",
       "</style>\n",
       "<table border=\"1\" class=\"dataframe\">\n",
       "  <thead>\n",
       "    <tr style=\"text-align: right;\">\n",
       "      <th></th>\n",
       "      <th>PostalCode</th>\n",
       "      <th>Borough</th>\n",
       "      <th>Neighborhood</th>\n",
       "    </tr>\n",
       "  </thead>\n",
       "  <tbody>\n",
       "    <tr>\n",
       "      <th>0</th>\n",
       "      <td>M3A</td>\n",
       "      <td>North York</td>\n",
       "      <td>Parkwoods</td>\n",
       "    </tr>\n",
       "    <tr>\n",
       "      <th>1</th>\n",
       "      <td>M4A</td>\n",
       "      <td>North York</td>\n",
       "      <td>Victoria Village</td>\n",
       "    </tr>\n",
       "    <tr>\n",
       "      <th>2</th>\n",
       "      <td>M5A</td>\n",
       "      <td>Downtown Toronto</td>\n",
       "      <td>Regent Park , Harbourfront</td>\n",
       "    </tr>\n",
       "    <tr>\n",
       "      <th>3</th>\n",
       "      <td>M6A</td>\n",
       "      <td>North York</td>\n",
       "      <td>Lawrence Manor , Lawrence Heights</td>\n",
       "    </tr>\n",
       "    <tr>\n",
       "      <th>4</th>\n",
       "      <td>M7A</td>\n",
       "      <td>Queen's Park</td>\n",
       "      <td>Ontario Provincial Government</td>\n",
       "    </tr>\n",
       "  </tbody>\n",
       "</table>\n",
       "</div>"
      ],
      "text/plain": [
       "  PostalCode           Borough                         Neighborhood\n",
       "0        M3A        North York                           Parkwoods \n",
       "1        M4A        North York                    Victoria Village \n",
       "2        M5A  Downtown Toronto          Regent Park , Harbourfront \n",
       "3        M6A        North York   Lawrence Manor , Lawrence Heights \n",
       "4        M7A      Queen's Park       Ontario Provincial Government "
      ]
     },
     "execution_count": 6,
     "metadata": {},
     "output_type": "execute_result"
    }
   ],
   "source": [
    "import pandas as pd\n",
    "\n",
    "NEG_KEY = 'Not assigned'\n",
    "\n",
    "pc_dict = {}\n",
    "pc_dict['PostalCode'] = []\n",
    "pc_dict['Borough'] = []\n",
    "pc_dict['Neighborhood'] = []\n",
    "\n",
    "for cell in cells:\n",
    "    content = cell.get_text()\n",
    "    if NEG_KEY in content:\n",
    "        continue\n",
    "\n",
    "    code, borough, nbs = parse(content)\n",
    "    \n",
    "    pc_dict['PostalCode'].append(code)\n",
    "    pc_dict['Borough'].append(borough)\n",
    "    pc_dict['Neighborhood'].append(nbs)\n",
    "\n",
    "ds = pd.DataFrame(pc_dict, columns=['PostalCode', 'Borough', 'Neighborhood'])\n",
    "ds.head()"
   ]
  },
  {
   "cell_type": "markdown",
   "id": "1ff579bd-82bc-4ffd-8024-4f2b71fa6608",
   "metadata": {},
   "source": [
    "### Clean-up/Patch"
   ]
  },
  {
   "cell_type": "code",
   "execution_count": 7,
   "id": "f7bd5b6b-7ae9-41a0-9b52-6bf4b645f191",
   "metadata": {},
   "outputs": [
    {
     "name": "stdout",
     "output_type": "stream",
     "text": [
      "Exceptions:\n",
      "    PostalCode                                            Borough  \\\n",
      "76         M7R   MississaugaCanada Post Gateway Processing Centre   \n",
      "92         M5W     Downtown TorontoStn A PO Boxes25 The Esplanade   \n",
      "94         M9W                                 EtobicokeNorthwest   \n",
      "100        M7Y  East TorontoBusiness reply mail Processing Cen...   \n",
      "\n",
      "                                          Neighborhood  \n",
      "76                                     Enclave of L4W   \n",
      "92                                     Enclave of M5E   \n",
      "94    Clairville , Humberwood , Woodbine Downs , We...  \n",
      "100                                    Enclave of M4L   \n"
     ]
    }
   ],
   "source": [
    "print('Exceptions:')\n",
    "print(ds[ds['PostalCode'].isin(['M5W', 'M7R', 'M7Y', 'M9W'])])\n",
    "\n",
    "ds.loc[ds['PostalCode'] == 'M7Y', 'Borough'] = 'East Toronto'\n",
    "ds.loc[ds['PostalCode'] == 'M7Y', 'Neighborhood'] = 'Business Reply Mail Processing Centre 969 Eastern'\n",
    "\n",
    "ds.loc[ds['PostalCode'] == 'M7R', 'Borough'] = 'Mississauga'\n",
    "ds.loc[ds['PostalCode'] == 'M7R', 'Neighborhood'] = 'Canada Post Gateway Processing Centre'\n",
    "\n",
    "ds.loc[ds['PostalCode'] == 'M5W', 'Borough'] = 'Downtown Toronto'\n",
    "ds.loc[ds['PostalCode'] == 'M5W', 'Neighborhood'] = 'Stn A PO Boxes 25 The Esplanade'\n",
    "\n",
    "ds.loc[ds['PostalCode'] == 'M9W', 'Borough'] = 'Etobicoke Northwest'"
   ]
  },
  {
   "cell_type": "code",
   "execution_count": 8,
   "id": "e8fe964d-d6bf-45ee-9d21-172e4ebeeea9",
   "metadata": {},
   "outputs": [
    {
     "name": "stdout",
     "output_type": "stream",
     "text": [
      "After patching\n",
      "    PostalCode              Borough  \\\n",
      "76         M7R          Mississauga   \n",
      "92         M5W     Downtown Toronto   \n",
      "94         M9W  Etobicoke Northwest   \n",
      "100        M7Y         East Toronto   \n",
      "\n",
      "                                          Neighborhood  \n",
      "76               Canada Post Gateway Processing Centre  \n",
      "92                     Stn A PO Boxes 25 The Esplanade  \n",
      "94    Clairville , Humberwood , Woodbine Downs , We...  \n",
      "100  Business Reply Mail Processing Centre 969 Eastern  \n"
     ]
    }
   ],
   "source": [
    "print('After patching')\n",
    "print(ds[ds['PostalCode'].isin(['M5W', 'M7R', 'M7Y', 'M9W'])])"
   ]
  },
  {
   "cell_type": "markdown",
   "id": "e0152d60-d735-48c7-acc0-54e3d353f1aa",
   "metadata": {},
   "source": [
    "## Summary"
   ]
  },
  {
   "cell_type": "code",
   "execution_count": 9,
   "id": "37eed3ae-0ae5-46a3-a8e3-5d1b916d5a09",
   "metadata": {},
   "outputs": [
    {
     "name": "stdout",
     "output_type": "stream",
     "text": [
      "Number of rows:  103\n"
     ]
    }
   ],
   "source": [
    "print('Number of rows: ', ds.shape[0])"
   ]
  },
  {
   "cell_type": "markdown",
   "id": "f7524de7-5f26-49f9-a427-f660ebcab450",
   "metadata": {},
   "source": [
    "## Toronto - Neighborhoods' Coordinates"
   ]
  },
  {
   "cell_type": "markdown",
   "id": "b177ac35-a24f-40c3-bc64-a0311d17e666",
   "metadata": {},
   "source": [
    "### Download Coordinates' Database"
   ]
  },
  {
   "cell_type": "code",
   "execution_count": 10,
   "id": "b82bbe36-7e67-4a2a-8a61-f576f0d9915f",
   "metadata": {},
   "outputs": [],
   "source": [
    "#!wget https://cf-courses-data.s3.us.cloud-object-storage.appdomain.cloud/IBMDeveloperSkillsNetwork-DS0701EN-SkillsNetwork/labs_v1/Geospatial_Coordinates.csv"
   ]
  },
  {
   "cell_type": "markdown",
   "id": "377bc337-5b1a-430c-a3a9-ee86eefc02e9",
   "metadata": {},
   "source": [
    "### Read data from Coordinates' Database File"
   ]
  },
  {
   "cell_type": "code",
   "execution_count": 11,
   "id": "e2a96d5a-2f22-4cd6-954d-2905c8e8fe22",
   "metadata": {},
   "outputs": [
    {
     "data": {
      "text/html": [
       "<div>\n",
       "<style scoped>\n",
       "    .dataframe tbody tr th:only-of-type {\n",
       "        vertical-align: middle;\n",
       "    }\n",
       "\n",
       "    .dataframe tbody tr th {\n",
       "        vertical-align: top;\n",
       "    }\n",
       "\n",
       "    .dataframe thead th {\n",
       "        text-align: right;\n",
       "    }\n",
       "</style>\n",
       "<table border=\"1\" class=\"dataframe\">\n",
       "  <thead>\n",
       "    <tr style=\"text-align: right;\">\n",
       "      <th></th>\n",
       "      <th>Postal Code</th>\n",
       "      <th>Latitude</th>\n",
       "      <th>Longitude</th>\n",
       "    </tr>\n",
       "  </thead>\n",
       "  <tbody>\n",
       "    <tr>\n",
       "      <th>0</th>\n",
       "      <td>M1B</td>\n",
       "      <td>43.806686</td>\n",
       "      <td>-79.194353</td>\n",
       "    </tr>\n",
       "    <tr>\n",
       "      <th>1</th>\n",
       "      <td>M1C</td>\n",
       "      <td>43.784535</td>\n",
       "      <td>-79.160497</td>\n",
       "    </tr>\n",
       "    <tr>\n",
       "      <th>2</th>\n",
       "      <td>M1E</td>\n",
       "      <td>43.763573</td>\n",
       "      <td>-79.188711</td>\n",
       "    </tr>\n",
       "    <tr>\n",
       "      <th>3</th>\n",
       "      <td>M1G</td>\n",
       "      <td>43.770992</td>\n",
       "      <td>-79.216917</td>\n",
       "    </tr>\n",
       "    <tr>\n",
       "      <th>4</th>\n",
       "      <td>M1H</td>\n",
       "      <td>43.773136</td>\n",
       "      <td>-79.239476</td>\n",
       "    </tr>\n",
       "  </tbody>\n",
       "</table>\n",
       "</div>"
      ],
      "text/plain": [
       "  Postal Code   Latitude  Longitude\n",
       "0         M1B  43.806686 -79.194353\n",
       "1         M1C  43.784535 -79.160497\n",
       "2         M1E  43.763573 -79.188711\n",
       "3         M1G  43.770992 -79.216917\n",
       "4         M1H  43.773136 -79.239476"
      ]
     },
     "execution_count": 11,
     "metadata": {},
     "output_type": "execute_result"
    }
   ],
   "source": [
    "import pandas as pd\n",
    "coor_ds = pd.read_csv('Geospatial_Coordinates.csv')\n",
    "coor_ds.head()"
   ]
  },
  {
   "cell_type": "markdown",
   "id": "4e3a4950-9045-4fe5-b89f-278cb50f45d2",
   "metadata": {},
   "source": [
    "### Merge Postal Codes' Database with Coordinates' Database"
   ]
  },
  {
   "cell_type": "code",
   "execution_count": 12,
   "id": "a0e640d6-22c5-4122-83fe-033837585263",
   "metadata": {},
   "outputs": [
    {
     "data": {
      "text/html": [
       "<div>\n",
       "<style scoped>\n",
       "    .dataframe tbody tr th:only-of-type {\n",
       "        vertical-align: middle;\n",
       "    }\n",
       "\n",
       "    .dataframe tbody tr th {\n",
       "        vertical-align: top;\n",
       "    }\n",
       "\n",
       "    .dataframe thead th {\n",
       "        text-align: right;\n",
       "    }\n",
       "</style>\n",
       "<table border=\"1\" class=\"dataframe\">\n",
       "  <thead>\n",
       "    <tr style=\"text-align: right;\">\n",
       "      <th></th>\n",
       "      <th>PostalCode</th>\n",
       "      <th>Borough</th>\n",
       "      <th>Neighborhood</th>\n",
       "      <th>Latitude</th>\n",
       "      <th>Longitude</th>\n",
       "    </tr>\n",
       "  </thead>\n",
       "  <tbody>\n",
       "    <tr>\n",
       "      <th>0</th>\n",
       "      <td>M3A</td>\n",
       "      <td>North York</td>\n",
       "      <td>Parkwoods</td>\n",
       "      <td>43.753259</td>\n",
       "      <td>-79.329656</td>\n",
       "    </tr>\n",
       "    <tr>\n",
       "      <th>1</th>\n",
       "      <td>M4A</td>\n",
       "      <td>North York</td>\n",
       "      <td>Victoria Village</td>\n",
       "      <td>43.725882</td>\n",
       "      <td>-79.315572</td>\n",
       "    </tr>\n",
       "    <tr>\n",
       "      <th>2</th>\n",
       "      <td>M5A</td>\n",
       "      <td>Downtown Toronto</td>\n",
       "      <td>Regent Park , Harbourfront</td>\n",
       "      <td>43.654260</td>\n",
       "      <td>-79.360636</td>\n",
       "    </tr>\n",
       "    <tr>\n",
       "      <th>3</th>\n",
       "      <td>M6A</td>\n",
       "      <td>North York</td>\n",
       "      <td>Lawrence Manor , Lawrence Heights</td>\n",
       "      <td>43.718518</td>\n",
       "      <td>-79.464763</td>\n",
       "    </tr>\n",
       "    <tr>\n",
       "      <th>4</th>\n",
       "      <td>M7A</td>\n",
       "      <td>Queen's Park</td>\n",
       "      <td>Ontario Provincial Government</td>\n",
       "      <td>43.662301</td>\n",
       "      <td>-79.389494</td>\n",
       "    </tr>\n",
       "    <tr>\n",
       "      <th>5</th>\n",
       "      <td>M9A</td>\n",
       "      <td>Etobicoke</td>\n",
       "      <td>Islington Avenue</td>\n",
       "      <td>43.667856</td>\n",
       "      <td>-79.532242</td>\n",
       "    </tr>\n",
       "    <tr>\n",
       "      <th>6</th>\n",
       "      <td>M1B</td>\n",
       "      <td>Scarborough</td>\n",
       "      <td>Malvern , Rouge</td>\n",
       "      <td>43.806686</td>\n",
       "      <td>-79.194353</td>\n",
       "    </tr>\n",
       "    <tr>\n",
       "      <th>7</th>\n",
       "      <td>M3B</td>\n",
       "      <td>North York</td>\n",
       "      <td>Don Mills North</td>\n",
       "      <td>43.745906</td>\n",
       "      <td>-79.352188</td>\n",
       "    </tr>\n",
       "    <tr>\n",
       "      <th>8</th>\n",
       "      <td>M4B</td>\n",
       "      <td>East York</td>\n",
       "      <td>Parkview Hill , Woodbine Gardens</td>\n",
       "      <td>43.706397</td>\n",
       "      <td>-79.309937</td>\n",
       "    </tr>\n",
       "    <tr>\n",
       "      <th>9</th>\n",
       "      <td>M5B</td>\n",
       "      <td>Downtown Toronto</td>\n",
       "      <td>Garden District, Ryerson</td>\n",
       "      <td>43.657162</td>\n",
       "      <td>-79.378937</td>\n",
       "    </tr>\n",
       "    <tr>\n",
       "      <th>10</th>\n",
       "      <td>M6B</td>\n",
       "      <td>North York</td>\n",
       "      <td>Glencairn</td>\n",
       "      <td>43.709577</td>\n",
       "      <td>-79.445073</td>\n",
       "    </tr>\n",
       "    <tr>\n",
       "      <th>11</th>\n",
       "      <td>M9B</td>\n",
       "      <td>Etobicoke</td>\n",
       "      <td>West Deane Park , Princess Gardens , Martin G...</td>\n",
       "      <td>43.650943</td>\n",
       "      <td>-79.554724</td>\n",
       "    </tr>\n",
       "  </tbody>\n",
       "</table>\n",
       "</div>"
      ],
      "text/plain": [
       "   PostalCode           Borough  \\\n",
       "0         M3A        North York   \n",
       "1         M4A        North York   \n",
       "2         M5A  Downtown Toronto   \n",
       "3         M6A        North York   \n",
       "4         M7A      Queen's Park   \n",
       "5         M9A         Etobicoke   \n",
       "6         M1B       Scarborough   \n",
       "7         M3B        North York   \n",
       "8         M4B         East York   \n",
       "9         M5B  Downtown Toronto   \n",
       "10        M6B        North York   \n",
       "11        M9B         Etobicoke   \n",
       "\n",
       "                                         Neighborhood   Latitude  Longitude  \n",
       "0                                          Parkwoods   43.753259 -79.329656  \n",
       "1                                   Victoria Village   43.725882 -79.315572  \n",
       "2                         Regent Park , Harbourfront   43.654260 -79.360636  \n",
       "3                  Lawrence Manor , Lawrence Heights   43.718518 -79.464763  \n",
       "4                      Ontario Provincial Government   43.662301 -79.389494  \n",
       "5                                   Islington Avenue   43.667856 -79.532242  \n",
       "6                                    Malvern , Rouge   43.806686 -79.194353  \n",
       "7                                     Don Mills North  43.745906 -79.352188  \n",
       "8                   Parkview Hill , Woodbine Gardens   43.706397 -79.309937  \n",
       "9                           Garden District, Ryerson   43.657162 -79.378937  \n",
       "10                                         Glencairn   43.709577 -79.445073  \n",
       "11   West Deane Park , Princess Gardens , Martin G...  43.650943 -79.554724  "
      ]
     },
     "execution_count": 12,
     "metadata": {},
     "output_type": "execute_result"
    }
   ],
   "source": [
    "ds = pd.merge(left=ds, right=coor_ds, how='left', left_on='PostalCode', right_on='Postal Code')\n",
    "ds.drop(['Postal Code'], axis=1, inplace=True)\n",
    "ds.head(12)"
   ]
  }
 ],
 "metadata": {
  "kernelspec": {
   "display_name": "Python 3",
   "language": "python",
   "name": "python3"
  },
  "language_info": {
   "codemirror_mode": {
    "name": "ipython",
    "version": 3
   },
   "file_extension": ".py",
   "mimetype": "text/x-python",
   "name": "python",
   "nbconvert_exporter": "python",
   "pygments_lexer": "ipython3",
   "version": "3.8.5"
  }
 },
 "nbformat": 4,
 "nbformat_minor": 5
}
