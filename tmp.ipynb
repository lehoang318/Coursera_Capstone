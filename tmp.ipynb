{
 "cells": [
  {
   "cell_type": "markdown",
   "metadata": {},
   "source": [
    "# Categories"
   ]
  },
  {
   "cell_type": "code",
   "execution_count": 9,
   "metadata": {},
   "outputs": [
    {
     "name": "stdout",
     "output_type": "stream",
     "text": [
      "Response status: 200\n"
     ]
    }
   ],
   "source": [
    "import os\n",
    "import requests\n",
    "\n",
    "# Foursquare credentials have been stored in local environment variables\n",
    "CLIENT_ID = os.environ['FOURSQUARE_CLIENT_ID'] \n",
    "CLIENT_SECRET = os.environ['FOURSQUARE_CLIENT_SECRET'] \n",
    "VERSION = '20180605' # Foursquare API version\n",
    "\n",
    "url = 'https://api.foursquare.com/v2/venues/categories?client_id={}&client_secret={}'.format(\n",
    "            CLIENT_ID,\n",
    "            CLIENT_SECRET\n",
    "        )\n",
    "\n",
    "parameters = {'v':VERSION}\n",
    "\n",
    "result = requests.get(url, parameters)\n",
    "print('Response status:', result.status_code)"
   ]
  },
  {
   "cell_type": "code",
   "execution_count": 12,
   "metadata": {
    "scrolled": true,
    "tags": []
   },
   "outputs": [],
   "source": [
    "contents = result.json()\n",
    "categories = contents['response']['categories']"
   ]
  },
  {
   "cell_type": "markdown",
   "metadata": {},
   "source": [
    "### Save categories' database"
   ]
  },
  {
   "cell_type": "code",
   "execution_count": 21,
   "metadata": {},
   "outputs": [],
   "source": [
    "# import json\n",
    "\n",
    "# with open('venue-categories.json', 'w') as fw:\n",
    "#     fw.write(json.dumps(categories, indent=4))"
   ]
  },
  {
   "cell_type": "markdown",
   "metadata": {},
   "source": [
    "### Vanues' categories will be grouped based on the first layer of the database"
   ]
  },
  {
   "cell_type": "code",
   "execution_count": 76,
   "metadata": {},
   "outputs": [
    {
     "name": "stdout",
     "output_type": "stream",
     "text": [
      "Categories' groups:\n",
      "0. Arts & Entertainment\n",
      "1. College & University\n",
      "2. Event\n",
      "3. Food\n",
      "4. Nightlife Spot\n",
      "5. Outdoors & Recreation\n",
      "6. Professional & Other Places\n",
      "7. Residence\n",
      "8. Shop & Service\n",
      "9. Travel & Transport\n"
     ]
    }
   ],
   "source": [
    "print('Categories\\' groups:')\n",
    "cat_grps = []\n",
    "for i, child in enumerate(categories):\n",
    "    print('{}. {}'.format(i, child['name']))\n",
    "    cat_grps.append(child['name'])"
   ]
  },
  {
   "cell_type": "markdown",
   "metadata": {},
   "source": [
    "### Function to locate position of a category in database"
   ]
  },
  {
   "cell_type": "code",
   "execution_count": 47,
   "metadata": {},
   "outputs": [],
   "source": [
    "def search(tr, item):\n",
    "    \"\"\"\n",
    "    Locate position of a category in categories' database\n",
    "    \n",
    "    @return a tuple with two elements\n",
    "                1st element is a sequence/list of nodes' indexes which lead to the position of the category\n",
    "                2nd element is a sequence/list of comparison results of each node 's name with the category\n",
    "                    if the category is in the database,\n",
    "                        2nd element will contain a sub-element with value equals to 1\n",
    "                        E.g.: [0, 0, ..., 1]\n",
    "                    \n",
    "    \"\"\"\n",
    "    if ((type(tr) is not dict) and (type(tr) is not list)):\n",
    "        print('First parameter should be a List or a Dictionary!')\n",
    "        return None\n",
    "    \n",
    "    if (type(tr) is dict):\n",
    "        if ('name' in tr) and (item == tr['name']):\n",
    "            return (['name'], [1])\n",
    "        \n",
    "        if ('categories' in tr) and (0 < len(tr['categories'])):\n",
    "            result = search(tr['categories'], item)\n",
    "            if (type(result) is tuple) and (type(result[1]) is list):\n",
    "                return (['categories'] + result[0], [0] + result[1])\n",
    "\n",
    "        return ([0], [0])\n",
    "    else:\n",
    "        for i, child in enumerate(tr):\n",
    "            result = search(child, item)\n",
    "            if (type(result) is tuple) and (type(result[1]) is list) and (1 in result[1]):\n",
    "                return ([i] + result[0], [0] + result[1])\n",
    "        return ([0], [0])"
   ]
  },
  {
   "cell_type": "code",
   "execution_count": 52,
   "metadata": {},
   "outputs": [
    {
     "name": "stdout",
     "output_type": "stream",
     "text": [
      "The geograpical coordinate of Tokyo are 35.6828387, 139.7594549.\n"
     ]
    }
   ],
   "source": [
    "from geopy.geocoders import Nominatim # convert an address into latitude and longitude values\n",
    "\n",
    "address = 'Tokyo'\n",
    "\n",
    "geolocator = Nominatim(user_agent=\"my_explorer\")\n",
    "location = geolocator.geocode(address)\n",
    "latitude = location.latitude\n",
    "longitude = location.longitude\n",
    "print('The geograpical coordinate of Tokyo are {}, {}.'.format(latitude, longitude))"
   ]
  },
  {
   "cell_type": "code",
   "execution_count": 53,
   "metadata": {},
   "outputs": [
    {
     "name": "stdout",
     "output_type": "stream",
     "text": [
      "Response status: 200\n"
     ]
    }
   ],
   "source": [
    "LIMIT = 100\n",
    "RADIUS = 500\n",
    "\n",
    "url = 'https://api.foursquare.com/v2/venues/explore?client_id={}&client_secret={}'.format(\n",
    "            CLIENT_ID,\n",
    "            CLIENT_SECRET\n",
    "        )\n",
    "\n",
    "parameters = {\n",
    "            'v':VERSION,\n",
    "            'll':'{},{}'.format(latitude, longitude),\n",
    "            'radius':RADIUS,\n",
    "            'limit':LIMIT\n",
    "        }\n",
    "\n",
    "result = requests.get(url, parameters)\n",
    "print('Response status:', result.status_code)"
   ]
  },
  {
   "cell_type": "code",
   "execution_count": 67,
   "metadata": {
    "scrolled": true,
    "tags": []
   },
   "outputs": [],
   "source": [
    "import numpy as np\n",
    "\n",
    "tokyo_cat_grp = np.zeros((len(categories),), dtype=int)\n",
    "\n",
    "items = result.json()['response']['groups'][0]['items']\n",
    "for item in items:\n",
    "    venue = item['venue']\n",
    "    venue_cat = venue['categories'][0]['name']\n",
    "    query_result = search(categories, venue_cat)\n",
    "    if (1 in query_result[1]):\n",
    "        tokyo_cat_grp[query_result[0][0]] += 1\n",
    "    else:\n",
    "        print('Unknown category:', venue_cat)"
   ]
  },
  {
   "cell_type": "code",
   "execution_count": 81,
   "metadata": {},
   "outputs": [
    {
     "data": {
      "image/png": "[encoded data removed]",
      "text/plain": [
       "<Figure size 1152x720 with 1 Axes>"
      ]
     },
     "metadata": {
      "needs_background": "light"
     },
     "output_type": "display_data"
    }
   ],
   "source": [
    "import matplotlib.pyplot as plt\n",
    "\n",
    "fig, ax = plt.subplots(figsize=(16,10))\n",
    "ax.bar(cat_grps, tokyo_cat_grp)\n",
    "# ax.set_xlabel('Categories\\' group')\n",
    "ax.set_ylabel('Number of venues')\n",
    "plt.xticks(range(len(cat_grps)), cat_grps, rotation='vertical')\n",
    "plt.show()"
   ]
  },
  {
   "cell_type": "code",
   "execution_count": 71,
   "metadata": {},
   "outputs": [
    {
     "data": {
      "text/plain": [
       "array([17,  0,  0, 32,  6, 10,  1,  0, 12,  5])"
      ]
     },
     "execution_count": 71,
     "metadata": {},
     "output_type": "execute_result"
    }
   ],
   "source": [
    "tokyo_cat_grp"
   ]
  }
 ],
 "metadata": {
  "kernelspec": {
   "display_name": "Python 3",
   "language": "python",
   "name": "python3"
  },
  "language_info": {
   "codemirror_mode": {
    "name": "ipython",
    "version": 3
   },
   "file_extension": ".py",
   "mimetype": "text/x-python",
   "name": "python",
   "nbconvert_exporter": "python",
   "pygments_lexer": "ipython3",
   "version": "3.8.5"
  }
 },
 "nbformat": 4,
 "nbformat_minor": 4
}
