{
 "cells": [
  {
   "cell_type": "markdown",
   "metadata": {},
   "source": [
    "# <div align=\"center\" style=\"font-weight: bold\">Predict Potential Business Services in Vietnam</div>\n",
    "<div align=\"center\" style=\"font-weight: normal\">Le Huy Hoang</div>\n",
    "<div align=\"center\" style=\"font-weight: normal\">June 27, 2021</div>"
   ]
  },
  {
   "cell_type": "markdown",
   "metadata": {},
   "source": [
    "## 1. Introduction"
   ]
  },
  {
   "cell_type": "markdown",
   "metadata": {},
   "source": [
    "### 1.1 Background\n",
    "<div style=\"text-align: justify\">\n",
    "    Vietnam is a country in SouthEast Asia  with a population of  over 96 millions.<br>\n",
    "    In recent decades, thanks to the reforms in economy & politics, the country has<br>\n",
    "    transformed from one of the poorest nations into a lower middle-income country.<br>\n",
    "    <br>\n",
    "    Rapid urbanisation and the emerging of middle class make  the country become<br>\n",
    "    a very attractive investment destination, especially its major cities like Hanoi,<br>\n",
    "    or Ho Chi Minh.<br>\n",
    "</div>"
   ]
  },
  {
   "cell_type": "markdown",
   "metadata": {},
   "source": [
    "### 1.2 Business Problem \n",
    "<div style=\"text-align: justify\">\n",
    "    To make investment decision, investors will have to figure out that in the near future,<br>\n",
    "    which types of business will have more room to grow, hence, be more profitable.<br>\n",
    "    <br>\n",
    "    Based on the fact that countries in East and Southeast Asia that were heavily influenced<br>\n",
    "    by Chinese culture, their development directions may share a lot of similarities.<br>\n",
    "    This aspect could be ultilized to resolve the business problem.<br>\n",
    "    <br>\n",
    "    In the project, Beijing and Singapore will be selected as samples for mordern cities in<br>\n",
    "    East and Southeast Asia. Structures of the two metropolises will be analyzed, then<br>\n",
    "    their common characteristcs will be used to predict the most potential business<br>\n",
    "    services in Vietnam.<br>\n",
    "</div>"
   ]
  },
  {
   "cell_type": "markdown",
   "metadata": {},
   "source": [
    "### 1.3 Stakeholders\n",
    "<div style=\"text-align: justify\">\n",
    "    The work would be valuable for investors who are looking for business opportunities<br>\n",
    "    in Vietnam, and urban planners to optimize the effectiveness of land use and infrastructure.<br>\n",
    "</div>\n",
    "    "
   ]
  },
  {
   "cell_type": "markdown",
   "metadata": {},
   "source": [
    "## 2. Data Description\n",
    "<div style=\"text-align: justify\">\n",
    "    <ul>\n",
    "    <li>Information of boroughs in Beijing and Singapore will be extracted from Wikipedia</li>\n",
    "    <ul>\n",
    "        <li><a href=\"https://en.wikipedia.org/wiki/Beijing\">Beijing</a></li>\n",
    "        <li><a href=\"https://en.wikipedia.org/wiki/Singapore\">Singapore</a></li>\n",
    "    </ul>\n",
    "    <li>Popular venues in the two cities will be queried from <a href=\"https://foursquare.com/\">Foursquare Database</a></li>\n",
    "    <li>Location of the venues will queried from OpenStreetMap data using <a href=\"https://geopy.readthedocs.io/en/stable/#nominatim\">GeoPy Library</a></li>\n",
    "    </ul>\n",
    "</div>"
   ]
  },
  {
   "cell_type": "markdown",
   "metadata": {},
   "source": [
    "## References\n",
    "[1] https://www.worldbank.org/en/country/vietnam/overview<br>\n",
    "[2] https://en.wikipedia.org/wiki/East_Asian_cultural_sphere<br>\n"
   ]
  }
 ],
 "metadata": {
  "kernelspec": {
   "display_name": "Python 3",
   "language": "python",
   "name": "python3"
  },
  "language_info": {
   "codemirror_mode": {
    "name": "ipython",
    "version": 3
   },
   "file_extension": ".py",
   "mimetype": "text/x-python",
   "name": "python",
   "nbconvert_exporter": "python",
   "pygments_lexer": "ipython3",
   "version": "3.8.5"
  }
 },
 "nbformat": 4,
 "nbformat_minor": 4
}
